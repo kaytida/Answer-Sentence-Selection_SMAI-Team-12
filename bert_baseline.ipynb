{
 "cells": [
  {
   "cell_type": "code",
   "execution_count": 19,
   "metadata": {},
   "outputs": [],
   "source": [
    "import numpy as np\n",
    "import pandas as pd\n",
    "import matplotlib.pyplot as plt"
   ]
  },
  {
   "cell_type": "code",
   "execution_count": null,
   "metadata": {},
   "outputs": [],
   "source": []
  },
  {
   "cell_type": "code",
   "execution_count": 20,
   "metadata": {},
   "outputs": [],
   "source": [
    "dataset_dir_path = '../dataset/WikiQACorpus/'\n",
    "train_path = dataset_dir_path + 'WikiQA-train.tsv'\n",
    "test_path = dataset_dir_path + 'WikiQA-test.tsv'\n",
    "dev_path = dataset_dir_path + 'WikiQA-dev.tsv'\n"
   ]
  },
  {
   "cell_type": "code",
   "execution_count": 21,
   "metadata": {},
   "outputs": [],
   "source": [
    "train_df = pd.read_csv(train_path, sep='\\t', header=None)\n",
    "test_df = pd.read_csv(test_path, sep='\\t', header=None)\n",
    "dev_df = pd.read_csv(dev_path, sep='\\t', header=None)"
   ]
  },
  {
   "cell_type": "code",
   "execution_count": 22,
   "metadata": {},
   "outputs": [
    {
     "data": {
      "text/plain": [
       "(20348, 7)"
      ]
     },
     "execution_count": 22,
     "metadata": {},
     "output_type": "execute_result"
    }
   ],
   "source": [
    "train_df.shape\n"
   ]
  },
  {
   "cell_type": "code",
   "execution_count": 23,
   "metadata": {},
   "outputs": [],
   "source": [
    "# store all sentences according to question with theri labels\n",
    "train_dict = {}\n",
    "\n",
    "for i in range(len(train_df)):\n",
    "    q = train_df.iloc[i, 1]\n",
    "    if q not in train_dict:\n",
    "        train_dict[q] = [[train_df.iloc[i, 5], train_df.iloc[i, 6]]]\n",
    "    else:\n",
    "        train_dict[q].append([train_df.iloc[i, 5], train_df.iloc[i, 6]])\n",
    "\n",
    "# delete a key from dictionary\n",
    "del train_dict['Question']\n",
    "# store all sentences according to question with theri labels\n",
    "test_dict = {}\n",
    "\n",
    "for i in range(len(test_df)):\n",
    "    q = test_df.iloc[i, 1]\n",
    "    if q not in test_dict:\n",
    "        test_dict[q] = [[test_df.iloc[i, 5], test_df.iloc[i, 6]]]\n",
    "    else:\n",
    "        test_dict[q].append([test_df.iloc[i, 5], test_df.iloc[i, 6]])\n",
    "\n",
    "del test_dict['Question']\n",
    "\n",
    "# store all sentences according to question with theri labels\n",
    "\n",
    "dev_dict = {}\n",
    "\n",
    "for i in range(len(dev_df)):\n",
    "    q = dev_df.iloc[i, 1]\n",
    "    if q not in dev_dict:\n",
    "        dev_dict[q] = [[dev_df.iloc[i, 5], dev_df.iloc[i, 6]]]\n",
    "    else:\n",
    "        dev_dict[q].append([dev_df.iloc[i, 5], dev_df.iloc[i, 6]])\n",
    "\n",
    "del dev_dict['Question']"
   ]
  },
  {
   "cell_type": "code",
   "execution_count": 25,
   "metadata": {},
   "outputs": [],
   "source": [
    "def transform_labels(dic):\n",
    "    no_answer_keys = []\n",
    "    for k in dic:\n",
    "        sum = 0\n",
    "        for i in range(len(dic[k])):\n",
    "            sum += int(dic[k][i][1])\n",
    "        if sum == 0:\n",
    "            no_answer_keys.append(k)\n",
    "            continue\n",
    "    # delete no answer questions\n",
    "    for k in no_answer_keys:\n",
    "        del dic[k]\n",
    "    \n",
    "    return dic\n",
    "\n",
    "\n",
    "train_dict = transform_labels(train_dict)\n",
    "test_dict = transform_labels(test_dict)\n",
    "dev_dict = transform_labels(dev_dict)\n"
   ]
  },
  {
   "cell_type": "code",
   "execution_count": 26,
   "metadata": {},
   "outputs": [
    {
     "name": "stdout",
     "output_type": "stream",
     "text": [
      "[['A partly submerged glacier cave on Perito Moreno Glacier .', '0'], ['The ice facade is approximately 60 m high', '0'], ['Ice formations in the Titlis glacier cave', '0'], ['A glacier cave is a cave formed within the ice of a glacier .', '1'], ['Glacier caves are often called ice caves , but this term is properly used to describe bedrock caves that contain year-round ice.', '0']]\n"
     ]
    }
   ],
   "source": [
    "for k in train_dict:\n",
    "    print(train_dict[k])\n",
    "    break\n",
    "\n",
    "    "
   ]
  },
  {
   "cell_type": "code",
   "execution_count": 27,
   "metadata": {},
   "outputs": [],
   "source": [
    "# create a list of (question,candidates) tuples\n",
    "def create_qc_ql(dic):\n",
    "    q_c_list = []\n",
    "    for k in dic:\n",
    "        for c in dic[k]:\n",
    "            q_c_list.append((k, c[0]))\n",
    "    \n",
    "    q_l__list = []\n",
    "    for k in dic:\n",
    "        for c in dic[k]:\n",
    "            q_l__list.append((k, c[1]))\n",
    "            \n",
    "    \n",
    "    return q_c_list, q_l__list\n",
    "\n",
    "train_q_c_list, train_q_l_list = create_qc_ql(train_dict)\n",
    "test_q_c_list, test_q_l_list = create_qc_ql(test_dict)\n",
    "dev_q_c_list, dev_q_l_list = create_qc_ql(dev_dict)\n",
    "\n"
   ]
  },
  {
   "cell_type": "code",
   "execution_count": 29,
   "metadata": {},
   "outputs": [],
   "source": [
    "train_q_l_list = np.array(train_q_l_list)\n",
    "test_q_l_list = np.array(test_q_l_list)\n",
    "dev_q_l_list = np.array(dev_q_l_list)"
   ]
  },
  {
   "cell_type": "code",
   "execution_count": 10,
   "metadata": {},
   "outputs": [
    {
     "name": "stderr",
     "output_type": "stream",
     "text": [
      "/home/night_crwlr/.local/lib/python3.10/site-packages/tqdm/auto.py:22: TqdmWarning: IProgress not found. Please update jupyter and ipywidgets. See https://ipywidgets.readthedocs.io/en/stable/user_install.html\n",
      "  from .autonotebook import tqdm as notebook_tqdm\n",
      "The cache for model files in Transformers v4.22.0 has been updated. Migrating your old cache. This is a one-time only operation. You can interrupt this and resume the migration later on by calling `transformers.utils.move_cache()`.\n"
     ]
    },
    {
     "name": "stdout",
     "output_type": "stream",
     "text": [
      "Moving 0 files to the new cache system\n"
     ]
    },
    {
     "name": "stderr",
     "output_type": "stream",
     "text": [
      "0it [00:00, ?it/s]\n"
     ]
    }
   ],
   "source": [
    "# get cls token embedding from bert model by passing  [cls] [question] [sep] [candidate] [sep]\n",
    "from transformers import BertTokenizer, BertModel\n",
    "import torch\n",
    "\n",
    "\n",
    "tokenizer = BertTokenizer.from_pretrained('bert-base-uncased')\n",
    "model = BertModel.from_pretrained('bert-base-uncased', output_hidden_states=True)\n",
    "\n",
    "def get_cls_embedding(q_c_list):\n",
    "    cls_embeddings = []\n",
    "    for q_c in q_c_list:\n",
    "        q = q_c[0]\n",
    "        c = q_c[1]\n",
    "        tokenized = tokenizer.encode(q, c, add_special_tokens=True)\n",
    "        \n",
    "        input_ids = torch.tensor([tokenized])\n",
    "        with torch.no_grad():\n",
    "            last_hidden_states = model(input_ids)[0]  # Models outputs are now tuples\n",
    "        cls_embeddings.append(last_hidden_states[0][0].numpy())\n",
    "    return cls_embeddings\n",
    "\n",
    "train_cls_embeddings = get_cls_embedding(train_q_c_list)\n"
   ]
  },
  {
   "cell_type": "code",
   "execution_count": 8,
   "metadata": {},
   "outputs": [],
   "source": [
    "# save list as a pickle file and load\n",
    "import pickle\n",
    "import numpy as np\n",
    "\n",
    "def save_pickle(obj, path):\n",
    "    with open(path, 'wb') as f:\n",
    "        pickle.dump(obj, f)\n",
    "\n",
    "def load_pickle(path):\n",
    "    with open(path, 'rb') as f:\n",
    "        return pickle.load(f)\n"
   ]
  },
  {
   "cell_type": "code",
   "execution_count": 9,
   "metadata": {},
   "outputs": [],
   "source": [
    "train_cls_embeddings = load_pickle('train_cls_embeddings.pkl')\n",
    "train_cls_embeddings = np.array(train_cls_embeddings)"
   ]
  },
  {
   "cell_type": "code",
   "execution_count": 10,
   "metadata": {},
   "outputs": [
    {
     "name": "stderr",
     "output_type": "stream",
     "text": [
      "/home/night_crwlr/.local/lib/python3.10/site-packages/tqdm/auto.py:22: TqdmWarning: IProgress not found. Please update jupyter and ipywidgets. See https://ipywidgets.readthedocs.io/en/stable/user_install.html\n",
      "  from .autonotebook import tqdm as notebook_tqdm\n"
     ]
    }
   ],
   "source": [
    "# Find score for each candidate using pytorch model\n",
    "\n",
    "import torch\n",
    "import torch.nn as nn\n",
    "import torch.nn.functional as F\n",
    "import torch.optim as optim\n",
    "\n",
    "class BertBaseline(nn.Module):\n",
    "    def __init__(self):\n",
    "        super(BertBaseline, self).__init__()\n",
    "        self.fc1 = nn.Linear(768, 256)\n",
    "        self.fc2 = nn.Linear(256, 2)\n",
    "        self.dropout = nn.Dropout(0.1)\n",
    "        \n",
    "    def forward(self, x):\n",
    "        x = F.relu(self.fc1(x))\n",
    "        x = self.fc2(x)\n",
    "        return x\n"
   ]
  },
  {
   "cell_type": "code",
   "execution_count": 13,
   "metadata": {},
   "outputs": [
    {
     "data": {
      "text/plain": [
       "(8666, 768)"
      ]
     },
     "execution_count": 13,
     "metadata": {},
     "output_type": "execute_result"
    }
   ],
   "source": [
    "train_cls_embeddings.shape"
   ]
  },
  {
   "cell_type": "code",
   "execution_count": 14,
   "metadata": {},
   "outputs": [],
   "source": [
    "# different losses in nn\n",
    "# https://pytorch.org/docs/stable/nn.html#loss-functions\n"
   ]
  },
  {
   "cell_type": "code",
   "execution_count": 15,
   "metadata": {},
   "outputs": [],
   "source": [
    "# train train_cls_embeddings on bert baseline using train_q_l as labels\n",
    "# test on dev_cls_embeddings and test_cls_embeddings\n",
    "\n",
    "# train\n",
    "\n",
    "def train(epochs=10):\n",
    "    classifier_model = BertBaseline()\n",
    "    criterion = nn.CrossEntropyLoss()\n",
    "    optimizer = optim.Adam(classifier_model.parameters(), lr=0.001)\n",
    "\n",
    "    # train and store losses and print for each epoch with batch = 64\n",
    "    train_losses = []\n",
    "    dev_losses = []\n",
    "    test_losses = []\n",
    "\n",
    "    for epoch in range(epochs):  # loop over the dataset multiple times\n",
    "        running_loss = 0.0\n",
    "        for i in range(0, len(train_cls_embeddings), 64):\n",
    "            # get the inputs; data is a list of [inputs, labels]\n",
    "            inputs = train_cls_embeddings[i:i+64]\n",
    "            inputs = torch.tensor(inputs, dtype=torch.float32)\n",
    "            \n",
    "            labels = train_q_l_list[i:i+64,1].astype(float)\n",
    "            labels = torch.tensor(labels, dtype=torch.float32)\n",
    "\n",
    "            \n",
    "            # zero the parameter gradients\n",
    "            optimizer.zero_grad()\n",
    "\n",
    "            # forward + backward + optimize\n",
    "            outputs = classifier_model(inputs)\n",
    "            \n",
    "            \n",
    "            loss = criterion(outputs, labels.type(torch.LongTensor))\n",
    "            loss.backward()\n",
    "            optimizer.step()\n",
    "\n",
    "            # print statistics\n",
    "            running_loss += loss.item()\n",
    "        train_losses.append(running_loss)\n",
    "        print('epoch: %d, loss: %.3f' %\n",
    "                (epoch + 1, running_loss))\n",
    "\n",
    "    print('Finished Training')\n",
    "    return classifier_model\n",
    "\n",
    "# test model on dev and test set\n",
    "\n",
    "def get_loss(classifier_model,cls_embeddings, q_l_list):\n",
    "    criterion = nn.CrossEntropyLoss()\n",
    "    classifier_model.eval()\n",
    "    \n",
    "    running_loss = 0.0\n",
    "    for i in range(0, len(cls_embeddings), 64):\n",
    "        # get the inputs; data is a list of [inputs, labels]\n",
    "        inputs = cls_embeddings[i:i+64]\n",
    "        inputs = torch.tensor(inputs, dtype=torch.float32)\n",
    "        \n",
    "        labels = q_l_list[i:i+64,1].astype(float)\n",
    "        labels = torch.tensor(labels, dtype=torch.float32)\n",
    "\n",
    "        # forward + backward + optimize\n",
    "        outputs = classifier_model(inputs)\n",
    "        loss = criterion(outputs, labels.type(torch.LongTensor))\n",
    "        running_loss += loss.item()\n",
    "    \n",
    "    classifier_model.train()\n",
    "    return running_loss\n",
    "    "
   ]
  },
  {
   "cell_type": "code",
   "execution_count": 30,
   "metadata": {},
   "outputs": [],
   "source": [
    "# get embeddings from local computer \n",
    "dev_cls_embeddings = load_pickle('dev_cls_embeddings.pkl')\n",
    "dev_cls_embeddings = np.array(dev_cls_embeddings)\n",
    "\n",
    "test_cls_embeddings = load_pickle('test_cls_embeddings.pkl')\n",
    "test_cls_embeddings = np.array(test_cls_embeddings)"
   ]
  },
  {
   "cell_type": "code",
   "execution_count": 17,
   "metadata": {},
   "outputs": [
    {
     "data": {
      "text/plain": [
       "(2318, 768)"
      ]
     },
     "execution_count": 17,
     "metadata": {},
     "output_type": "execute_result"
    }
   ],
   "source": [
    "test_cls_embeddings.shape"
   ]
  },
  {
   "cell_type": "code",
   "execution_count": 31,
   "metadata": {},
   "outputs": [
    {
     "name": "stdout",
     "output_type": "stream",
     "text": [
      "epoch: 1, loss: 43.246\n",
      "Finished Training\n",
      "epoch: 1, loss: 43.110\n",
      "epoch: 2, loss: 39.286\n",
      "Finished Training\n",
      "epoch: 1, loss: 42.953\n",
      "epoch: 2, loss: 39.273\n",
      "epoch: 3, loss: 37.741\n",
      "Finished Training\n",
      "epoch: 1, loss: 42.907\n",
      "epoch: 2, loss: 39.163\n",
      "epoch: 3, loss: 37.534\n",
      "epoch: 4, loss: 36.176\n",
      "Finished Training\n",
      "epoch: 1, loss: 43.227\n",
      "epoch: 2, loss: 39.309\n",
      "epoch: 3, loss: 37.836\n",
      "epoch: 4, loss: 36.599\n",
      "epoch: 5, loss: 35.382\n",
      "Finished Training\n",
      "epoch: 1, loss: 42.980\n",
      "epoch: 2, loss: 39.251\n",
      "epoch: 3, loss: 37.751\n",
      "epoch: 4, loss: 36.423\n",
      "epoch: 5, loss: 35.349\n",
      "epoch: 6, loss: 34.192\n",
      "epoch: 7, loss: 32.960\n",
      "epoch: 8, loss: 31.522\n",
      "epoch: 9, loss: 30.269\n",
      "epoch: 10, loss: 29.139\n",
      "Finished Training\n",
      "epoch: 1, loss: 42.981\n",
      "epoch: 2, loss: 39.122\n",
      "epoch: 3, loss: 37.603\n",
      "epoch: 4, loss: 36.186\n",
      "epoch: 5, loss: 34.984\n",
      "epoch: 6, loss: 33.765\n",
      "epoch: 7, loss: 32.431\n",
      "epoch: 8, loss: 31.094\n",
      "epoch: 9, loss: 30.053\n",
      "epoch: 10, loss: 28.549\n",
      "epoch: 11, loss: 27.048\n",
      "epoch: 12, loss: 25.454\n",
      "epoch: 13, loss: 24.025\n",
      "epoch: 14, loss: 22.785\n",
      "epoch: 15, loss: 21.331\n",
      "Finished Training\n",
      "epoch: 1, loss: 43.166\n",
      "epoch: 2, loss: 39.302\n",
      "epoch: 3, loss: 37.758\n",
      "epoch: 4, loss: 36.432\n",
      "epoch: 5, loss: 35.143\n",
      "epoch: 6, loss: 34.040\n",
      "epoch: 7, loss: 32.833\n",
      "epoch: 8, loss: 31.771\n",
      "epoch: 9, loss: 30.271\n",
      "epoch: 10, loss: 28.893\n",
      "epoch: 11, loss: 27.534\n",
      "epoch: 12, loss: 26.187\n",
      "epoch: 13, loss: 24.644\n",
      "epoch: 14, loss: 23.093\n",
      "epoch: 15, loss: 21.988\n",
      "epoch: 16, loss: 21.053\n",
      "epoch: 17, loss: 21.113\n",
      "epoch: 18, loss: 23.931\n",
      "epoch: 19, loss: 23.548\n",
      "epoch: 20, loss: 19.955\n",
      "Finished Training\n",
      "epoch: 1, loss: 43.245\n",
      "epoch: 2, loss: 39.244\n",
      "epoch: 3, loss: 37.687\n",
      "epoch: 4, loss: 36.328\n",
      "epoch: 5, loss: 35.072\n",
      "epoch: 6, loss: 33.840\n",
      "epoch: 7, loss: 32.546\n",
      "epoch: 8, loss: 31.140\n",
      "epoch: 9, loss: 29.850\n",
      "epoch: 10, loss: 28.553\n",
      "epoch: 11, loss: 27.205\n",
      "epoch: 12, loss: 25.450\n",
      "epoch: 13, loss: 23.603\n",
      "epoch: 14, loss: 21.781\n",
      "epoch: 15, loss: 20.119\n",
      "epoch: 16, loss: 18.697\n",
      "epoch: 17, loss: 17.771\n",
      "epoch: 18, loss: 17.523\n",
      "epoch: 19, loss: 20.257\n",
      "epoch: 20, loss: 23.146\n",
      "epoch: 21, loss: 20.254\n",
      "epoch: 22, loss: 20.037\n",
      "epoch: 23, loss: 19.772\n",
      "epoch: 24, loss: 16.496\n",
      "epoch: 25, loss: 13.606\n",
      "Finished Training\n",
      "epoch: 1, loss: 43.058\n",
      "epoch: 2, loss: 39.295\n",
      "epoch: 3, loss: 37.728\n",
      "epoch: 4, loss: 36.373\n",
      "epoch: 5, loss: 35.221\n",
      "epoch: 6, loss: 33.905\n",
      "epoch: 7, loss: 32.733\n",
      "epoch: 8, loss: 31.610\n",
      "epoch: 9, loss: 30.138\n",
      "epoch: 10, loss: 29.065\n",
      "epoch: 11, loss: 27.880\n",
      "epoch: 12, loss: 26.059\n",
      "epoch: 13, loss: 24.504\n",
      "epoch: 14, loss: 23.027\n",
      "epoch: 15, loss: 21.546\n",
      "epoch: 16, loss: 20.256\n",
      "epoch: 17, loss: 19.736\n",
      "epoch: 18, loss: 22.871\n",
      "epoch: 19, loss: 21.750\n",
      "epoch: 20, loss: 21.048\n",
      "epoch: 21, loss: 20.437\n",
      "epoch: 22, loss: 20.264\n",
      "epoch: 23, loss: 18.597\n",
      "epoch: 24, loss: 15.939\n",
      "epoch: 25, loss: 14.000\n",
      "epoch: 26, loss: 12.428\n",
      "epoch: 27, loss: 10.809\n",
      "epoch: 28, loss: 9.717\n",
      "epoch: 29, loss: 8.979\n",
      "epoch: 30, loss: 8.438\n",
      "epoch: 31, loss: 8.434\n",
      "epoch: 32, loss: 9.544\n",
      "epoch: 33, loss: 11.903\n",
      "epoch: 34, loss: 14.053\n",
      "epoch: 35, loss: 15.342\n",
      "epoch: 36, loss: 11.738\n",
      "epoch: 37, loss: 7.566\n",
      "epoch: 38, loss: 6.059\n",
      "epoch: 39, loss: 5.455\n",
      "epoch: 40, loss: 5.152\n",
      "epoch: 41, loss: 5.125\n",
      "epoch: 42, loss: 5.259\n",
      "epoch: 43, loss: 6.130\n",
      "epoch: 44, loss: 7.203\n",
      "epoch: 45, loss: 7.709\n",
      "epoch: 46, loss: 8.673\n",
      "epoch: 47, loss: 8.921\n",
      "epoch: 48, loss: 8.166\n",
      "epoch: 49, loss: 8.690\n",
      "epoch: 50, loss: 6.648\n",
      "Finished Training\n",
      "epoch: 1, loss: 43.204\n",
      "epoch: 2, loss: 39.282\n",
      "epoch: 3, loss: 37.786\n",
      "epoch: 4, loss: 36.498\n",
      "epoch: 5, loss: 35.172\n",
      "epoch: 6, loss: 33.852\n",
      "epoch: 7, loss: 32.498\n",
      "epoch: 8, loss: 31.222\n",
      "epoch: 9, loss: 29.808\n",
      "epoch: 10, loss: 28.439\n",
      "epoch: 11, loss: 26.867\n",
      "epoch: 12, loss: 25.331\n",
      "epoch: 13, loss: 23.827\n",
      "epoch: 14, loss: 22.629\n",
      "epoch: 15, loss: 21.203\n",
      "epoch: 16, loss: 20.263\n",
      "epoch: 17, loss: 20.035\n",
      "epoch: 18, loss: 21.488\n",
      "epoch: 19, loss: 21.507\n",
      "epoch: 20, loss: 18.767\n",
      "epoch: 21, loss: 16.685\n",
      "epoch: 22, loss: 15.056\n",
      "epoch: 23, loss: 13.600\n",
      "epoch: 24, loss: 12.803\n",
      "epoch: 25, loss: 12.686\n",
      "epoch: 26, loss: 13.145\n",
      "epoch: 27, loss: 14.335\n",
      "epoch: 28, loss: 19.240\n",
      "epoch: 29, loss: 17.654\n",
      "epoch: 30, loss: 12.771\n",
      "epoch: 31, loss: 9.640\n",
      "epoch: 32, loss: 7.936\n",
      "epoch: 33, loss: 6.787\n",
      "epoch: 34, loss: 6.132\n",
      "epoch: 35, loss: 5.576\n",
      "epoch: 36, loss: 5.170\n",
      "epoch: 37, loss: 5.053\n",
      "epoch: 38, loss: 5.400\n",
      "epoch: 39, loss: 5.995\n",
      "epoch: 40, loss: 7.730\n",
      "epoch: 41, loss: 9.325\n",
      "epoch: 42, loss: 10.628\n",
      "epoch: 43, loss: 11.572\n",
      "epoch: 44, loss: 10.230\n",
      "epoch: 45, loss: 8.016\n",
      "epoch: 46, loss: 6.104\n",
      "epoch: 47, loss: 5.202\n",
      "epoch: 48, loss: 4.626\n",
      "epoch: 49, loss: 4.125\n",
      "epoch: 50, loss: 3.908\n",
      "epoch: 51, loss: 4.046\n",
      "epoch: 52, loss: 3.720\n",
      "epoch: 53, loss: 3.240\n",
      "epoch: 54, loss: 2.903\n",
      "epoch: 55, loss: 2.277\n",
      "epoch: 56, loss: 1.956\n",
      "epoch: 57, loss: 1.632\n",
      "epoch: 58, loss: 1.303\n",
      "epoch: 59, loss: 1.197\n",
      "epoch: 60, loss: 1.219\n",
      "epoch: 61, loss: 1.297\n",
      "epoch: 62, loss: 1.233\n",
      "epoch: 63, loss: 1.073\n",
      "epoch: 64, loss: 1.014\n",
      "epoch: 65, loss: 0.928\n",
      "epoch: 66, loss: 0.833\n",
      "epoch: 67, loss: 0.720\n",
      "epoch: 68, loss: 0.654\n",
      "epoch: 69, loss: 0.605\n",
      "epoch: 70, loss: 0.617\n",
      "epoch: 71, loss: 0.618\n",
      "epoch: 72, loss: 0.614\n",
      "epoch: 73, loss: 0.535\n",
      "epoch: 74, loss: 0.521\n",
      "epoch: 75, loss: 0.440\n",
      "epoch: 76, loss: 0.558\n",
      "epoch: 77, loss: 0.408\n",
      "epoch: 78, loss: 0.501\n",
      "epoch: 79, loss: 0.464\n",
      "epoch: 80, loss: 0.491\n",
      "epoch: 81, loss: 0.420\n",
      "epoch: 82, loss: 0.508\n",
      "epoch: 83, loss: 0.771\n",
      "epoch: 84, loss: 9.861\n",
      "epoch: 85, loss: 4.451\n",
      "epoch: 86, loss: 1.341\n",
      "epoch: 87, loss: 0.804\n",
      "epoch: 88, loss: 0.483\n",
      "epoch: 89, loss: 0.541\n",
      "epoch: 90, loss: 0.469\n",
      "epoch: 91, loss: 0.430\n",
      "epoch: 92, loss: 0.432\n",
      "epoch: 93, loss: 0.431\n",
      "epoch: 94, loss: 0.434\n",
      "epoch: 95, loss: 0.508\n",
      "epoch: 96, loss: 0.424\n",
      "epoch: 97, loss: 0.373\n",
      "epoch: 98, loss: 0.400\n",
      "epoch: 99, loss: 0.349\n",
      "epoch: 100, loss: 0.466\n",
      "Finished Training\n"
     ]
    }
   ],
   "source": [
    "all_epochs = [1,2,3,4,5,10,15,20,25,50,100]\n",
    "all_classifier_models = []\n",
    "all_train_losses = []\n",
    "all_dev_losses = []\n",
    "all_test_losses = []\n",
    "\n",
    "for epochs in all_epochs:\n",
    "    classifier_model = train(epochs)\n",
    "    all_classifier_models.append(classifier_model)\n",
    "    train_loss = get_loss(classifier_model, train_cls_embeddings, train_q_l_list)\n",
    "    all_train_losses.append(train_loss)\n",
    "    dev_loss = get_loss(classifier_model, dev_cls_embeddings, dev_q_l_list)\n",
    "    all_dev_losses.append(dev_loss)\n",
    "    test_loss = get_loss(classifier_model, test_cls_embeddings, test_q_l_list)\n",
    "    all_test_losses.append(test_loss)"
   ]
  },
  {
   "cell_type": "code",
   "execution_count": 32,
   "metadata": {},
   "outputs": [
    {
     "name": "stdout",
     "output_type": "stream",
     "text": [
      "Epochs: 1, Train Loss: 39.194, Dev Loss: 5.121, Test Loss: 11.460\n",
      "Epochs: 2, Train Loss: 37.405, Dev Loss: 5.099, Test Loss: 11.330\n",
      "Epochs: 3, Train Loss: 36.265, Dev Loss: 5.156, Test Loss: 11.342\n",
      "Epochs: 4, Train Loss: 35.277, Dev Loss: 5.278, Test Loss: 11.476\n",
      "Epochs: 5, Train Loss: 34.729, Dev Loss: 5.322, Test Loss: 11.574\n",
      "Epochs: 10, Train Loss: 30.805, Dev Loss: 6.113, Test Loss: 12.896\n",
      "Epochs: 15, Train Loss: 24.738, Dev Loss: 6.928, Test Loss: 14.496\n",
      "Epochs: 20, Train Loss: 23.907, Dev Loss: 7.676, Test Loss: 16.224\n",
      "Epochs: 25, Train Loss: 14.258, Dev Loss: 8.446, Test Loss: 18.220\n",
      "Epochs: 50, Train Loss: 10.174, Dev Loss: 12.758, Test Loss: 28.782\n",
      "Epochs: 100, Train Loss: 0.916, Dev Loss: 20.931, Test Loss: 43.745\n"
     ]
    }
   ],
   "source": [
    "# print all losses\n",
    "for i in range(len(all_epochs)):\n",
    "    print('Epochs: %d, Train Loss: %.3f, Dev Loss: %.3f, Test Loss: %.3f' %\n",
    "                (all_epochs[i], all_train_losses[i], all_dev_losses[i], all_test_losses[i]))\n",
    "                "
   ]
  },
  {
   "cell_type": "code",
   "execution_count": 33,
   "metadata": {},
   "outputs": [
    {
     "data": {
      "image/png": "[encoded data removed]",
      "text/plain": [
       "<Figure size 640x480 with 1 Axes>"
      ]
     },
     "metadata": {},
     "output_type": "display_data"
    }
   ],
   "source": [
    "# plot all losses\n",
    "import matplotlib.pyplot as plt\n",
    "\n",
    "plt.plot(all_epochs[:8], all_train_losses[:8], label='Train')\n",
    "plt.plot(all_epochs[:8], all_dev_losses[:8], label='Dev')\n",
    "plt.plot(all_epochs[:8], all_test_losses[:8], label='Test')\n",
    "plt.xlabel('Epochs')\n",
    "plt.ylabel('Loss')\n",
    "plt.legend()\n",
    "plt.show()\n"
   ]
  },
  {
   "cell_type": "code",
   "execution_count": 34,
   "metadata": {},
   "outputs": [],
   "source": [
    "classifier_10_epochs = all_classifier_models[5]"
   ]
  },
  {
   "cell_type": "code",
   "execution_count": 36,
   "metadata": {},
   "outputs": [],
   "source": [
    "def metric(classifier_model,qcl_dict,cls_embeddings,q_l_list):\n",
    "    precisions = []\n",
    "    ranks = []\n",
    "    classifier_model.eval()\n",
    "    for k in qcl_dict:\n",
    "        question = k\n",
    "        \n",
    "        question_cls_embeddings = cls_embeddings[q_l_list[:,0] == question]\n",
    "        question_cls_embeddings = torch.tensor(question_cls_embeddings, dtype=torch.float32)\n",
    "\n",
    "        question_real_labels = q_l_list[q_l_list[:,0] == question,1].astype(int)\n",
    "\n",
    "        \n",
    "        # get indices where question_real_labels are 1\n",
    "        question_real_labels_indices = np.where(question_real_labels == 1)[0]\n",
    "        \n",
    "        question_predicted_scores = classifier_model(question_cls_embeddings)\n",
    "        # apply softmax to get probabilities\n",
    "        question_predicted_scores = torch.nn.functional.softmax(question_predicted_scores, dim=1)\n",
    "        question_predicted_scores = question_predicted_scores[:,1] - question_predicted_scores[:,0]\n",
    "        question_predicted_scores = question_predicted_scores.detach().numpy()\n",
    "        # sort the indices using scores\n",
    "        sorted_indices = np.argsort(question_predicted_scores)[::-1]\n",
    "        \n",
    "        # change values in sorted_indices to -1 if they are in question_real_labels_indices\n",
    "        for i in range(len(sorted_indices)):\n",
    "            if sorted_indices[i] in question_real_labels_indices:\n",
    "                sorted_indices[i] = -1\n",
    "        \n",
    "        precision = 0\n",
    "        rank = 0\n",
    "        c = 0\n",
    "        for i,ind in enumerate(sorted_indices):\n",
    "            if ind == -1:\n",
    "                rank  = 1/(i+1)\n",
    "                c += 1\n",
    "                precision += (c/(i+1))\n",
    "        \n",
    "        precision = precision/c\n",
    "        precisions.append(precision)\n",
    "        ranks.append(rank)\n",
    "    classifier_model.train()\n",
    "    return np.mean(precisions), np.mean(ranks)\n",
    "\n",
    "        \n",
    "\n",
    "    "
   ]
  },
  {
   "cell_type": "code",
   "execution_count": 37,
   "metadata": {},
   "outputs": [
    {
     "name": "stdout",
     "output_type": "stream",
     "text": [
      "Train MAP: 0.788, Train MRR: 0.720\n",
      "Dev MAP: 0.736, Dev MRR: 0.707\n",
      "Test MAP: 0.693, Test MRR: 0.630\n"
     ]
    }
   ],
   "source": [
    "\n",
    "train_MAP, train_MRR = metric(classifier_10_epochs, train_dict, train_cls_embeddings, train_q_l_list)\n",
    "dev_MAP, dev_MRR = metric(classifier_10_epochs, dev_dict, dev_cls_embeddings, dev_q_l_list)\n",
    "test_MAP, test_MRR = metric(classifier_10_epochs, test_dict, test_cls_embeddings, test_q_l_list)\n",
    "\n",
    "print('Train MAP: %.3f, Train MRR: %.3f' % (train_MAP, train_MRR))\n",
    "print('Dev MAP: %.3f, Dev MRR: %.3f' % (dev_MAP, dev_MRR))\n",
    "print('Test MAP: %.3f, Test MRR: %.3f' % (test_MAP, test_MRR))"
   ]
  },
  {
   "cell_type": "code",
   "execution_count": 38,
   "metadata": {},
   "outputs": [
    {
     "name": "stdout",
     "output_type": "stream",
     "text": [
      "Epochs: 1, Train MAP: 0.686, Train MRR: 0.625, Dev MAP: 0.708, Dev MRR: 0.679, Test MAP: 0.691, Test MRR: 0.627\n",
      "Epochs: 2, Train MAP: 0.699, Train MRR: 0.637, Dev MAP: 0.723, Dev MRR: 0.693, Test MAP: 0.696, Test MRR: 0.632\n",
      "Epochs: 3, Train MAP: 0.706, Train MRR: 0.643, Dev MAP: 0.734, Dev MRR: 0.703, Test MAP: 0.702, Test MRR: 0.638\n",
      "Epochs: 4, Train MAP: 0.719, Train MRR: 0.655, Dev MAP: 0.739, Dev MRR: 0.709, Test MAP: 0.706, Test MRR: 0.641\n",
      "Epochs: 5, Train MAP: 0.721, Train MRR: 0.657, Dev MAP: 0.731, Dev MRR: 0.702, Test MAP: 0.703, Test MRR: 0.639\n",
      "Epochs: 10, Train MAP: 0.788, Train MRR: 0.720, Dev MAP: 0.736, Dev MRR: 0.707, Test MAP: 0.693, Test MRR: 0.630\n",
      "Epochs: 15, Train MAP: 0.852, Train MRR: 0.780, Dev MAP: 0.727, Dev MRR: 0.704, Test MAP: 0.672, Test MRR: 0.613\n",
      "Epochs: 20, Train MAP: 0.891, Train MRR: 0.817, Dev MAP: 0.687, Dev MRR: 0.660, Test MAP: 0.658, Test MRR: 0.595\n",
      "Epochs: 25, Train MAP: 0.938, Train MRR: 0.860, Dev MAP: 0.693, Dev MRR: 0.669, Test MAP: 0.665, Test MRR: 0.603\n",
      "Epochs: 50, Train MAP: 0.990, Train MRR: 0.911, Dev MAP: 0.687, Dev MRR: 0.661, Test MAP: 0.665, Test MRR: 0.606\n",
      "Epochs: 100, Train MAP: 1.000, Train MRR: 0.921, Dev MAP: 0.652, Dev MRR: 0.630, Test MAP: 0.650, Test MRR: 0.586\n"
     ]
    }
   ],
   "source": [
    "# print MAP and MRR for all epochs and for train, dev and test\n",
    "for i in range(len(all_epochs)):\n",
    "    train_MAP, train_MRR = metric(all_classifier_models[i], train_dict, train_cls_embeddings, train_q_l_list)\n",
    "    dev_MAP, dev_MRR = metric(all_classifier_models[i], dev_dict, dev_cls_embeddings, dev_q_l_list)\n",
    "    test_MAP, test_MRR = metric(all_classifier_models[i], test_dict, test_cls_embeddings, test_q_l_list)\n",
    "    print('Epochs: %d, Train MAP: %.3f, Train MRR: %.3f, Dev MAP: %.3f, Dev MRR: %.3f, Test MAP: %.3f, Test MRR: %.3f' %\n",
    "                (all_epochs[i], train_MAP, train_MRR, dev_MAP, dev_MRR, test_MAP, test_MRR))"
   ]
  }
 ],
 "metadata": {
  "kernelspec": {
   "display_name": "Python 3.10.4 64-bit",
   "language": "python",
   "name": "python3"
  },
  "language_info": {
   "codemirror_mode": {
    "name": "ipython",
    "version": 3
   },
   "file_extension": ".py",
   "mimetype": "text/x-python",
   "name": "python",
   "nbconvert_exporter": "python",
   "pygments_lexer": "ipython3",
   "version": "3.7.14"
  },
  "orig_nbformat": 4,
  "vscode": {
   "interpreter": {
    "hash": "916dbcbb3f70747c44a77c7bcd40155683ae19c65e1c03b4aa3499c5328201f1"
   }
  }
 },
 "nbformat": 4,
 "nbformat_minor": 2
}
